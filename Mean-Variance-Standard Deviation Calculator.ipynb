{
 "cells": [
  {
   "cell_type": "code",
   "execution_count": 7,
   "metadata": {},
   "outputs": [
    {
     "data": {
      "text/plain": [
       "{'mean': [[3.0, 4.0, 5.0], [1.0, 4.0, 7.0], 4.0],\n",
       " 'variance': [[6.0, 6.0, 6.0],\n",
       "  [0.6666666666666666, 0.6666666666666666, 0.6666666666666666],\n",
       "  6.666666666666667],\n",
       " 'standard deviation': [[2.449489742783178,\n",
       "   2.449489742783178,\n",
       "   2.449489742783178],\n",
       "  [0.816496580927726, 0.816496580927726, 0.816496580927726],\n",
       "  2.581988897471611],\n",
       " 'max': [[6, 7, 8], [2, 5, 8], 8],\n",
       " 'min': [[0, 1, 2], [0, 3, 6], 0],\n",
       " 'sum': [[9, 12, 15], [3, 12, 21], 36]}"
      ]
     },
     "execution_count": 7,
     "metadata": {},
     "output_type": "execute_result"
    }
   ],
   "source": [
    "import numpy as np\n",
    "\n",
    "def calculate(list):\n",
    "  #convert input list into array\n",
    "  if len(list) >= 9:\n",
    "    x = np.array(list).reshape(3,3)\n",
    "    #mean\n",
    "    mean1 = np.mean(x, axis = 0).tolist()\n",
    "    mean2 = np.mean(x,axis = 1).tolist()\n",
    "    mean3 = np.mean(x).tolist()\n",
    "    #variance\n",
    "    var1 = np.var(x, axis = 0).tolist()\n",
    "    var2 = np.var(x, axis = 1).tolist()\n",
    "    var3 = np.var(x).tolist()\n",
    "    #standard deviation\n",
    "    std1 = np.std(x, axis = 0).tolist()\n",
    "    std2 = np.std(x, axis = 1).tolist()\n",
    "    std3 = np.std(x).tolist()\n",
    "    #max\n",
    "    max1 = np.max(x, axis = 0).tolist()\n",
    "    max2 = np.max(x, axis = 1).tolist()\n",
    "    max3 = np.max(x).tolist()\n",
    "    #min\n",
    "    min1 = np.min(x, axis = 0).tolist()\n",
    "    min2 = np.min(x, axis = 1).tolist()\n",
    "    min3 = np.min(x).tolist()\n",
    "    #sum\n",
    "    sum1 = np.sum(x, axis = 0).tolist()\n",
    "    sum2 = np.sum(x, axis = 1).tolist()\n",
    "    sum3 = np.sum(x).tolist()\n",
    "\n",
    "    #return a dict containing the above\n",
    "    calculations = {}\n",
    "    calculations['mean'] = [mean1, mean2, mean3]\n",
    "    calculations['variance'] = [var1, var2, var3]\n",
    "    calculations['standard deviation'] = [std1, std2, std3]\n",
    "    calculations['max'] = [max1, max2, max3]\n",
    "    calculations['min'] = [min1, min2, min3]\n",
    "    calculations['sum'] = [sum1, sum2, sum3]\n",
    "  \n",
    "  \n",
    "    return calculations\n",
    "  else:\n",
    "    raise ValueError('List must contain nine numbers.')\n",
    "\n",
    "calculate([0,1,2,3,4,5,6,7,8])"
   ]
  }
 ],
 "metadata": {
  "interpreter": {
   "hash": "40d3a090f54c6569ab1632332b64b2c03c39dcf918b08424e98f38b5ae0af88f"
  },
  "kernelspec": {
   "display_name": "Python 3.8.8 64-bit ('base': conda)",
   "language": "python",
   "name": "python3"
  },
  "language_info": {
   "codemirror_mode": {
    "name": "ipython",
    "version": 3
   },
   "file_extension": ".py",
   "mimetype": "text/x-python",
   "name": "python",
   "nbconvert_exporter": "python",
   "pygments_lexer": "ipython3",
   "version": "3.8.8"
  },
  "orig_nbformat": 4
 },
 "nbformat": 4,
 "nbformat_minor": 2
}
